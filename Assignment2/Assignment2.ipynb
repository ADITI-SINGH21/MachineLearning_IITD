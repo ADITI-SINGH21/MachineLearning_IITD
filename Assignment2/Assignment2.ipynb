{
 "cells": [
  {
   "cell_type": "code",
   "execution_count": 1,
   "metadata": {},
   "outputs": [],
   "source": [
    "import pandas as pd\n",
    "import numpy as np\n",
    "import seaborn as sns\n",
    "import matplotlib.pyplot as plt\n",
    "%matplotlib inline\n",
    "import warnings\n",
    "warnings.filterwarnings(\"ignore\")"
   ]
  },
  {
   "cell_type": "code",
   "execution_count": 2,
   "metadata": {},
   "outputs": [],
   "source": [
    "from sklearn.preprocessing import StandardScaler\n",
    "from sklearn.model_selection import train_test_split"
   ]
  },
  {
   "cell_type": "code",
   "execution_count": 3,
   "metadata": {},
   "outputs": [],
   "source": [
    "train = pd.read_excel('q1train.xlsx')\n",
    "test = pd.read_excel('q1test.xlsx')"
   ]
  },
  {
   "cell_type": "code",
   "execution_count": 4,
   "metadata": {},
   "outputs": [
    {
     "data": {
      "text/html": [
       "<div>\n",
       "<style scoped>\n",
       "    .dataframe tbody tr th:only-of-type {\n",
       "        vertical-align: middle;\n",
       "    }\n",
       "\n",
       "    .dataframe tbody tr th {\n",
       "        vertical-align: top;\n",
       "    }\n",
       "\n",
       "    .dataframe thead th {\n",
       "        text-align: right;\n",
       "    }\n",
       "</style>\n",
       "<table border=\"1\" class=\"dataframe\">\n",
       "  <thead>\n",
       "    <tr style=\"text-align: right;\">\n",
       "      <th></th>\n",
       "      <th>Aptitude</th>\n",
       "      <th>Verbal</th>\n",
       "      <th>Label</th>\n",
       "    </tr>\n",
       "  </thead>\n",
       "  <tbody>\n",
       "    <tr>\n",
       "      <th>0</th>\n",
       "      <td>34.723660</td>\n",
       "      <td>30.386711</td>\n",
       "      <td>0</td>\n",
       "    </tr>\n",
       "    <tr>\n",
       "      <th>1</th>\n",
       "      <td>30.386711</td>\n",
       "      <td>35.947409</td>\n",
       "      <td>0</td>\n",
       "    </tr>\n",
       "    <tr>\n",
       "      <th>2</th>\n",
       "      <td>35.947409</td>\n",
       "      <td>60.282599</td>\n",
       "      <td>0</td>\n",
       "    </tr>\n",
       "    <tr>\n",
       "      <th>3</th>\n",
       "      <td>45.183277</td>\n",
       "      <td>61.206665</td>\n",
       "      <td>0</td>\n",
       "    </tr>\n",
       "    <tr>\n",
       "      <th>4</th>\n",
       "      <td>95.961555</td>\n",
       "      <td>75.113658</td>\n",
       "      <td>0</td>\n",
       "    </tr>\n",
       "  </tbody>\n",
       "</table>\n",
       "</div>"
      ],
      "text/plain": [
       "    Aptitude     Verbal  Label\n",
       "0  34.723660  30.386711      0\n",
       "1  30.386711  35.947409      0\n",
       "2  35.947409  60.282599      0\n",
       "3  45.183277  61.206665      0\n",
       "4  95.961555  75.113658      0"
      ]
     },
     "execution_count": 4,
     "metadata": {},
     "output_type": "execute_result"
    }
   ],
   "source": [
    "train.head()"
   ]
  },
  {
   "cell_type": "code",
   "execution_count": 5,
   "metadata": {},
   "outputs": [
    {
     "data": {
      "text/html": [
       "<div>\n",
       "<style scoped>\n",
       "    .dataframe tbody tr th:only-of-type {\n",
       "        vertical-align: middle;\n",
       "    }\n",
       "\n",
       "    .dataframe tbody tr th {\n",
       "        vertical-align: top;\n",
       "    }\n",
       "\n",
       "    .dataframe thead th {\n",
       "        text-align: right;\n",
       "    }\n",
       "</style>\n",
       "<table border=\"1\" class=\"dataframe\">\n",
       "  <thead>\n",
       "    <tr style=\"text-align: right;\">\n",
       "      <th></th>\n",
       "      <th>Aptitude</th>\n",
       "      <th>Verbal</th>\n",
       "    </tr>\n",
       "  </thead>\n",
       "  <tbody>\n",
       "    <tr>\n",
       "      <th>0</th>\n",
       "      <td>32.822833</td>\n",
       "      <td>43.407173</td>\n",
       "    </tr>\n",
       "    <tr>\n",
       "      <th>1</th>\n",
       "      <td>64.139320</td>\n",
       "      <td>78.131688</td>\n",
       "    </tr>\n",
       "    <tr>\n",
       "      <th>2</th>\n",
       "      <td>72.446494</td>\n",
       "      <td>96.327593</td>\n",
       "    </tr>\n",
       "    <tr>\n",
       "      <th>3</th>\n",
       "      <td>60.557886</td>\n",
       "      <td>73.194998</td>\n",
       "    </tr>\n",
       "    <tr>\n",
       "      <th>4</th>\n",
       "      <td>58.940956</td>\n",
       "      <td>75.958448</td>\n",
       "    </tr>\n",
       "  </tbody>\n",
       "</table>\n",
       "</div>"
      ],
      "text/plain": [
       "    Aptitude     Verbal\n",
       "0  32.822833  43.407173\n",
       "1  64.139320  78.131688\n",
       "2  72.446494  96.327593\n",
       "3  60.557886  73.194998\n",
       "4  58.940956  75.958448"
      ]
     },
     "execution_count": 5,
     "metadata": {},
     "output_type": "execute_result"
    }
   ],
   "source": [
    "test.head()"
   ]
  },
  {
   "cell_type": "code",
   "execution_count": 6,
   "metadata": {},
   "outputs": [
    {
     "name": "stdout",
     "output_type": "stream",
     "text": [
      "<class 'pandas.core.frame.DataFrame'>\n",
      "RangeIndex: 70 entries, 0 to 69\n",
      "Data columns (total 3 columns):\n",
      " #   Column    Non-Null Count  Dtype  \n",
      "---  ------    --------------  -----  \n",
      " 0   Aptitude  70 non-null     float64\n",
      " 1   Verbal    70 non-null     float64\n",
      " 2   Label     70 non-null     int64  \n",
      "dtypes: float64(2), int64(1)\n",
      "memory usage: 1.8 KB\n",
      "None\n",
      "<class 'pandas.core.frame.DataFrame'>\n",
      "RangeIndex: 30 entries, 0 to 29\n",
      "Data columns (total 2 columns):\n",
      " #   Column    Non-Null Count  Dtype  \n",
      "---  ------    --------------  -----  \n",
      " 0   Aptitude  30 non-null     float64\n",
      " 1   Verbal    30 non-null     float64\n",
      "dtypes: float64(2)\n",
      "memory usage: 608.0 bytes\n",
      "None\n"
     ]
    }
   ],
   "source": [
    "print(train.info())\n",
    "print(test.info())"
   ]
  },
  {
   "cell_type": "code",
   "execution_count": 7,
   "metadata": {},
   "outputs": [],
   "source": [
    "x_train = pd.concat([train['Aptitude'],train['Verbal']],axis =1)\n",
    "y_train = train['Label']\n",
    "x_p = np.array(x_train)\n",
    "y_p = np.array(y_train)\n",
    "x_p_train,x_p_test,y_p_train,y_p_test =  train_test_split(x_train, y_train, test_size=0.3, random_state=42)"
   ]
  },
  {
   "cell_type": "code",
   "execution_count": 8,
   "metadata": {},
   "outputs": [],
   "source": [
    "autoscaler = StandardScaler()\n",
    "scaler = autoscaler.fit(x_train)\n",
    "xp_norm = scaler.transform(x_train)\n",
    "test_norm = scaler.transform(test)\n",
    "x_p_train_norm = scaler.transform(x_p_train)\n",
    "x_p_test_norm = scaler.transform(x_p_test)\n",
    "y_p_train = np.array(y_p_train)\n",
    "y_p_test = np.array(y_p_test)"
   ]
  },
  {
   "cell_type": "markdown",
   "metadata": {},
   "source": [
    "# Q1(a)"
   ]
  },
  {
   "cell_type": "markdown",
   "metadata": {},
   "source": [
    "## Perceptron"
   ]
  },
  {
   "cell_type": "code",
   "execution_count": 9,
   "metadata": {},
   "outputs": [],
   "source": [
    "def perceptron(x,y,alpha,iterations):\n",
    "    X = np.hstack((np.ones((x.shape[0],1)),x))\n",
    "    weights = np.ones((X.shape[1],1))\n",
    "    cost = 0.0\n",
    "    J = []\n",
    "    temp = 1.0\n",
    "    for i in range(iterations):\n",
    "#     while(abs(cost-temp)>10^(-6)):\n",
    "        wTx = X.dot(weights)\n",
    "        pred = activation(wTx)\n",
    "        loss = (y.reshape((len(y),1))-pred).T\n",
    "        cost = np.sum((loss.T)**2)\n",
    "        cost*=0.5\n",
    "        prod = loss.dot(X)\n",
    "        weights+= alpha*prod.T\n",
    "        J.append(cost)\n",
    "        temp=cost\n",
    "    return weights,cost,J\n",
    "def activation(array):\n",
    "    arr = (array>=0)\n",
    "    return arr.astype(int)\n",
    "def hypothesisP(x,weights):\n",
    "    X = np.hstack((np.ones((x.shape[0],1)),x))\n",
    "    hfinal = X.dot(weights)\n",
    "    return hfinal\n",
    "def totalCorrect(y1,y2):\n",
    "    c=0\n",
    "    for i in range(len(y1)):\n",
    "        if y1[i]==y2[i]:\n",
    "            c+=1\n",
    "    return c"
   ]
  },
  {
   "cell_type": "code",
   "execution_count": 10,
   "metadata": {},
   "outputs": [
    {
     "name": "stdout",
     "output_type": "stream",
     "text": [
      "[[0.02      ]\n",
      " [0.23164092]\n",
      " [0.00745614]]\n",
      "total correctly predicted labels out of 21 is 17\n",
      "converged cost is 4.5\n"
     ]
    }
   ],
   "source": [
    "alpha_p = 0.0175\n",
    "iteration_p = 10000\n",
    "weights_test,cost_p_test,J_p_test = perceptron(x_p_train_norm,y_p_train,alpha_p,iteration_p)\n",
    "print(weights_test)\n",
    "hp1 = hypothesisP(x_p_test_norm,weights_test)\n",
    "yp1 = activation(hp1)\n",
    "# print(yp1)\n",
    "print('total correctly predicted labels out of 21 is',totalCorrect(yp1,y_p_test))\n",
    "print('converged cost is',cost_p_test)"
   ]
  },
  {
   "cell_type": "code",
   "execution_count": 11,
   "metadata": {},
   "outputs": [],
   "source": [
    "weights_final,cost_p_final,J_p_final = perceptron(xp_norm,y_p,alpha_p,iteration_p)"
   ]
  },
  {
   "cell_type": "markdown",
   "metadata": {},
   "source": [
    "# Q1(b)"
   ]
  },
  {
   "cell_type": "code",
   "execution_count": 12,
   "metadata": {},
   "outputs": [
    {
     "name": "stdout",
     "output_type": "stream",
     "text": [
      "The Obtained weights are [[-0.05      ]\n",
      " [ 0.37297326]\n",
      " [ 0.04995791]]\n",
      "The final converged cost is for perceptron 7.0\n"
     ]
    }
   ],
   "source": [
    "H_p = hypothesisP(test_norm,weights_final)\n",
    "y_p_final = activation(H_p)\n",
    "print(\"The Obtained weights are\",weights_final)\n",
    "print(\"The final converged cost is for perceptron\", cost_p_final)"
   ]
  },
  {
   "cell_type": "code",
   "execution_count": 13,
   "metadata": {
    "scrolled": false
   },
   "outputs": [
    {
     "data": {
      "text/html": [
       "<div>\n",
       "<style scoped>\n",
       "    .dataframe tbody tr th:only-of-type {\n",
       "        vertical-align: middle;\n",
       "    }\n",
       "\n",
       "    .dataframe tbody tr th {\n",
       "        vertical-align: top;\n",
       "    }\n",
       "\n",
       "    .dataframe thead th {\n",
       "        text-align: right;\n",
       "    }\n",
       "</style>\n",
       "<table border=\"1\" class=\"dataframe\">\n",
       "  <thead>\n",
       "    <tr style=\"text-align: right;\">\n",
       "      <th></th>\n",
       "      <th>Aptitude</th>\n",
       "      <th>Verbal</th>\n",
       "      <th>Labels_Predicted_Perceptron</th>\n",
       "    </tr>\n",
       "  </thead>\n",
       "  <tbody>\n",
       "    <tr>\n",
       "      <th>0</th>\n",
       "      <td>32.822833</td>\n",
       "      <td>43.407173</td>\n",
       "      <td>0</td>\n",
       "    </tr>\n",
       "    <tr>\n",
       "      <th>1</th>\n",
       "      <td>64.139320</td>\n",
       "      <td>78.131688</td>\n",
       "      <td>0</td>\n",
       "    </tr>\n",
       "    <tr>\n",
       "      <th>2</th>\n",
       "      <td>72.446494</td>\n",
       "      <td>96.327593</td>\n",
       "      <td>1</td>\n",
       "    </tr>\n",
       "    <tr>\n",
       "      <th>3</th>\n",
       "      <td>60.557886</td>\n",
       "      <td>73.194998</td>\n",
       "      <td>0</td>\n",
       "    </tr>\n",
       "    <tr>\n",
       "      <th>4</th>\n",
       "      <td>58.940956</td>\n",
       "      <td>75.958448</td>\n",
       "      <td>0</td>\n",
       "    </tr>\n",
       "  </tbody>\n",
       "</table>\n",
       "</div>"
      ],
      "text/plain": [
       "    Aptitude     Verbal  Labels_Predicted_Perceptron\n",
       "0  32.822833  43.407173                            0\n",
       "1  64.139320  78.131688                            0\n",
       "2  72.446494  96.327593                            1\n",
       "3  60.557886  73.194998                            0\n",
       "4  58.940956  75.958448                            0"
      ]
     },
     "execution_count": 13,
     "metadata": {},
     "output_type": "execute_result"
    }
   ],
   "source": [
    "np.savetxt(r'output1.txt', (pd.DataFrame(y_p_final)).values, fmt='%d')\n",
    "test_Labels_p = pd.DataFrame(y_p_final,columns =['Labels_Predicted_Perceptron'])\n",
    "test_with_labels_p = pd.concat([test,test_Labels_p],axis=1)\n",
    "test_with_labels_p.head()"
   ]
  },
  {
   "cell_type": "code",
   "execution_count": 14,
   "metadata": {},
   "outputs": [
    {
     "data": {
      "text/plain": [
       "Text(0.5, 1.0, 'Data Points for test data set predicted using perceptron')"
      ]
     },
     "execution_count": 14,
     "metadata": {},
     "output_type": "execute_result"
    },
    {
     "data": {
      "image/png": "[encoded data removed]",
      "text/plain": [
       "<Figure size 432x288 with 1 Axes>"
      ]
     },
     "metadata": {
      "needs_background": "light"
     },
     "output_type": "display_data"
    }
   ],
   "source": [
    "plt.scatter(test_with_labels_p.Aptitude[test_with_labels_p['Labels_Predicted_Perceptron']==0],test_with_labels_p.Verbal[test_with_labels_p['Labels_Predicted_Perceptron']==0],c='red')\n",
    "plt.scatter(test_with_labels_p.Aptitude[test_with_labels_p['Labels_Predicted_Perceptron']==1],test_with_labels_p.Verbal[test_with_labels_p['Labels_Predicted_Perceptron']==1])\n",
    "plt.xlabel('Aptitude')\n",
    "plt.ylabel('Verbal')\n",
    "plt.title('Data Points for test data set predicted using perceptron')"
   ]
  },
  {
   "cell_type": "code",
   "execution_count": 15,
   "metadata": {
    "scrolled": true
   },
   "outputs": [
    {
     "data": {
      "text/html": [
       "<div>\n",
       "<style scoped>\n",
       "    .dataframe tbody tr th:only-of-type {\n",
       "        vertical-align: middle;\n",
       "    }\n",
       "\n",
       "    .dataframe tbody tr th {\n",
       "        vertical-align: top;\n",
       "    }\n",
       "\n",
       "    .dataframe thead th {\n",
       "        text-align: right;\n",
       "    }\n",
       "</style>\n",
       "<table border=\"1\" class=\"dataframe\">\n",
       "  <thead>\n",
       "    <tr style=\"text-align: right;\">\n",
       "      <th></th>\n",
       "      <th>Aptitude</th>\n",
       "      <th>Verbal</th>\n",
       "      <th>Labels_Predicted_Perceptron</th>\n",
       "      <th>Aptitude_Norm</th>\n",
       "      <th>Verbal_Norm</th>\n",
       "    </tr>\n",
       "  </thead>\n",
       "  <tbody>\n",
       "    <tr>\n",
       "      <th>0</th>\n",
       "      <td>32.822833</td>\n",
       "      <td>43.407173</td>\n",
       "      <td>0</td>\n",
       "      <td>-1.587197</td>\n",
       "      <td>-1.044153</td>\n",
       "    </tr>\n",
       "    <tr>\n",
       "      <th>1</th>\n",
       "      <td>64.139320</td>\n",
       "      <td>78.131688</td>\n",
       "      <td>0</td>\n",
       "      <td>0.008874</td>\n",
       "      <td>0.721856</td>\n",
       "    </tr>\n",
       "    <tr>\n",
       "      <th>2</th>\n",
       "      <td>72.446494</td>\n",
       "      <td>96.327593</td>\n",
       "      <td>1</td>\n",
       "      <td>0.432256</td>\n",
       "      <td>1.647258</td>\n",
       "    </tr>\n",
       "    <tr>\n",
       "      <th>3</th>\n",
       "      <td>60.557886</td>\n",
       "      <td>73.194998</td>\n",
       "      <td>0</td>\n",
       "      <td>-0.173657</td>\n",
       "      <td>0.470787</td>\n",
       "    </tr>\n",
       "    <tr>\n",
       "      <th>4</th>\n",
       "      <td>58.940956</td>\n",
       "      <td>75.958448</td>\n",
       "      <td>0</td>\n",
       "      <td>-0.256065</td>\n",
       "      <td>0.611330</td>\n",
       "    </tr>\n",
       "  </tbody>\n",
       "</table>\n",
       "</div>"
      ],
      "text/plain": [
       "    Aptitude     Verbal  Labels_Predicted_Perceptron  Aptitude_Norm  \\\n",
       "0  32.822833  43.407173                            0      -1.587197   \n",
       "1  64.139320  78.131688                            0       0.008874   \n",
       "2  72.446494  96.327593                            1       0.432256   \n",
       "3  60.557886  73.194998                            0      -0.173657   \n",
       "4  58.940956  75.958448                            0      -0.256065   \n",
       "\n",
       "   Verbal_Norm  \n",
       "0    -1.044153  \n",
       "1     0.721856  \n",
       "2     1.647258  \n",
       "3     0.470787  \n",
       "4     0.611330  "
      ]
     },
     "execution_count": 15,
     "metadata": {},
     "output_type": "execute_result"
    }
   ],
   "source": [
    "test_df_norm = pd.DataFrame(test_norm,columns=['Aptitude_Norm','Verbal_Norm'])\n",
    "test_df_norm_p = pd.concat([test_with_labels_p,test_df_norm],axis=1)\n",
    "test_df_norm_p.head()"
   ]
  },
  {
   "cell_type": "code",
   "execution_count": 16,
   "metadata": {},
   "outputs": [],
   "source": [
    "aptitude_0_p = test_df_norm_p.Aptitude_Norm[test_df_norm_p['Labels_Predicted_Perceptron']==0]\n",
    "verbal_0_p = test_df_norm_p.Verbal_Norm[test_df_norm_p['Labels_Predicted_Perceptron']==0]\n",
    "aptitude_1_p = test_df_norm_p.Aptitude_Norm[test_df_norm_p['Labels_Predicted_Perceptron']==1]\n",
    "verbal_1_p = test_df_norm_p.Verbal_Norm[test_df_norm_p['Labels_Predicted_Perceptron']==1]"
   ]
  },
  {
   "cell_type": "code",
   "execution_count": 17,
   "metadata": {},
   "outputs": [
    {
     "data": {
      "text/plain": [
       "Text(0.5, 1.0, 'Separation of Data Points for test data set predicted using perceptron')"
      ]
     },
     "execution_count": 17,
     "metadata": {},
     "output_type": "execute_result"
    },
    {
     "data": {
      "image/png": "[encoded data removed]",
      "text/plain": [
       "<Figure size 432x288 with 1 Axes>"
      ]
     },
     "metadata": {
      "needs_background": "light"
     },
     "output_type": "display_data"
    }
   ],
   "source": [
    "plt.scatter(aptitude_0_p,verbal_0_p,c='red')\n",
    "plt.scatter(aptitude_1_p,verbal_1_p)\n",
    "plt.xlabel('Aptitude')\n",
    "plt.ylabel('Verbal')\n",
    "plt.plot(test_df_norm_p.Aptitude_Norm,(weights_final[0][0]+weights_final[1][0]*test_df_norm_p.Aptitude_Norm)/(-weights_final[2][0]))\n",
    "plt.title('Separation of Data Points for test data set predicted using perceptron')"
   ]
  },
  {
   "cell_type": "code",
   "execution_count": 18,
   "metadata": {},
   "outputs": [
    {
     "data": {
      "text/plain": [
       "Text(0.5, 1.0, 'Cost vs Iterations for Perceptron')"
      ]
     },
     "execution_count": 18,
     "metadata": {},
     "output_type": "execute_result"
    },
    {
     "data": {
      "image/png": "[encoded data removed]",
      "text/plain": [
       "<Figure size 432x288 with 1 Axes>"
      ]
     },
     "metadata": {
      "needs_background": "light"
     },
     "output_type": "display_data"
    }
   ],
   "source": [
    "iterations_p=np.arange(1,10001,1)\n",
    "plt.plot(iterations_p,J_p_final)\n",
    "plt.title('Cost vs Iterations for Perceptron')"
   ]
  },
  {
   "cell_type": "markdown",
   "metadata": {},
   "source": [
    "# Q1(c)"
   ]
  },
  {
   "cell_type": "markdown",
   "metadata": {},
   "source": [
    "## Logistic Regression"
   ]
  },
  {
   "cell_type": "code",
   "execution_count": 19,
   "metadata": {},
   "outputs": [],
   "source": [
    "def sigmoid(z):\n",
    "    Gz = 1.0 / (1.0 + np.exp(-z))\n",
    "    return Gz\n",
    "def costFunction(x,y,theta):\n",
    "    h = sigmoid(x.dot(theta))\n",
    "    J = (-y).T.dot(np.log(h))-((1-y).T.dot(np.log(1-h)))\n",
    "    J/=len(y)\n",
    "    return J\n",
    "def gradFunction(x,y,theta):\n",
    "    h = sigmoid(x.dot(theta))\n",
    "    grad = (h-y.reshape((len(y),1))).T.dot(x)\n",
    "    grad/=len(y)\n",
    "    return grad\n",
    "def LogisticRegression(x,y,alpha,iterations):\n",
    "    cost = 0.0\n",
    "    temp = 1.0\n",
    "    J =[]\n",
    "    X = np.hstack((np.ones((x.shape[0],1)),x))\n",
    "    theta = np.zeros((X.shape[1],1))\n",
    "    for i in range(iterations):\n",
    "        temp = cost\n",
    "        cost = costFunction(X,y,theta)\n",
    "        grad = gradFunction(X,y,theta)\n",
    "        theta-=alpha*grad.T \n",
    "        J.append(cost)\n",
    "    return theta,cost,J\n",
    "def hypothesisL(x,theta):\n",
    "    X = np.hstack((np.ones((x.shape[0],1)),x))\n",
    "    hfinal = sigmoid(X.dot(theta))\n",
    "    return hfinal\n",
    "def predictY(y):\n",
    "    b = (y>=0.5)\n",
    "    ypred=b.astype(int)\n",
    "    return ypred"
   ]
  },
  {
   "cell_type": "code",
   "execution_count": 20,
   "metadata": {},
   "outputs": [
    {
     "name": "stdout",
     "output_type": "stream",
     "text": [
      "The Obtained theta values are [[0.05476858]\n",
      " [1.6502387 ]\n",
      " [0.31334178]]\n",
      "The final converged cost is for logistic regression [0.47234938]\n"
     ]
    }
   ],
   "source": [
    "alpha_l = 0.0075\n",
    "iterations_l = 12000\n",
    "theta_final,cost_final,J_final = LogisticRegression(xp_norm,y_p,alpha_l,iterations_l)\n",
    "H_l = hypothesisL(test_norm,theta_final)\n",
    "y_l_final = predictY(H_l)\n",
    "print(\"The Obtained theta values are\",theta_final)\n",
    "print(\"The final converged cost is for logistic regression\", cost_final)"
   ]
  },
  {
   "cell_type": "code",
   "execution_count": 21,
   "metadata": {
    "scrolled": true
   },
   "outputs": [
    {
     "name": "stdout",
     "output_type": "stream",
     "text": [
      "number of predicted labels of perceptron matching with logistic regression is  29  out of 30\n"
     ]
    }
   ],
   "source": [
    "print(\"number of predicted labels of perceptron matching with logistic regression is \",totalCorrect(y_p_final,y_l_final),\" out of 30\")"
   ]
  },
  {
   "cell_type": "code",
   "execution_count": 22,
   "metadata": {},
   "outputs": [
    {
     "data": {
      "text/html": [
       "<div>\n",
       "<style scoped>\n",
       "    .dataframe tbody tr th:only-of-type {\n",
       "        vertical-align: middle;\n",
       "    }\n",
       "\n",
       "    .dataframe tbody tr th {\n",
       "        vertical-align: top;\n",
       "    }\n",
       "\n",
       "    .dataframe thead th {\n",
       "        text-align: right;\n",
       "    }\n",
       "</style>\n",
       "<table border=\"1\" class=\"dataframe\">\n",
       "  <thead>\n",
       "    <tr style=\"text-align: right;\">\n",
       "      <th></th>\n",
       "      <th>Aptitude</th>\n",
       "      <th>Verbal</th>\n",
       "      <th>Labels_Predicted_Logistic</th>\n",
       "    </tr>\n",
       "  </thead>\n",
       "  <tbody>\n",
       "    <tr>\n",
       "      <th>0</th>\n",
       "      <td>32.822833</td>\n",
       "      <td>43.407173</td>\n",
       "      <td>0</td>\n",
       "    </tr>\n",
       "    <tr>\n",
       "      <th>1</th>\n",
       "      <td>64.139320</td>\n",
       "      <td>78.131688</td>\n",
       "      <td>1</td>\n",
       "    </tr>\n",
       "    <tr>\n",
       "      <th>2</th>\n",
       "      <td>72.446494</td>\n",
       "      <td>96.327593</td>\n",
       "      <td>1</td>\n",
       "    </tr>\n",
       "    <tr>\n",
       "      <th>3</th>\n",
       "      <td>60.557886</td>\n",
       "      <td>73.194998</td>\n",
       "      <td>0</td>\n",
       "    </tr>\n",
       "    <tr>\n",
       "      <th>4</th>\n",
       "      <td>58.940956</td>\n",
       "      <td>75.958448</td>\n",
       "      <td>0</td>\n",
       "    </tr>\n",
       "  </tbody>\n",
       "</table>\n",
       "</div>"
      ],
      "text/plain": [
       "    Aptitude     Verbal  Labels_Predicted_Logistic\n",
       "0  32.822833  43.407173                          0\n",
       "1  64.139320  78.131688                          1\n",
       "2  72.446494  96.327593                          1\n",
       "3  60.557886  73.194998                          0\n",
       "4  58.940956  75.958448                          0"
      ]
     },
     "execution_count": 22,
     "metadata": {},
     "output_type": "execute_result"
    }
   ],
   "source": [
    "test_Labels_l = pd.DataFrame(y_l_final,columns =['Labels_Predicted_Logistic'])\n",
    "test_with_labels_l = pd.concat([test,test_Labels_l],axis=1)\n",
    "test_with_labels_l.head()"
   ]
  },
  {
   "cell_type": "code",
   "execution_count": 23,
   "metadata": {},
   "outputs": [
    {
     "data": {
      "text/html": [
       "<div>\n",
       "<style scoped>\n",
       "    .dataframe tbody tr th:only-of-type {\n",
       "        vertical-align: middle;\n",
       "    }\n",
       "\n",
       "    .dataframe tbody tr th {\n",
       "        vertical-align: top;\n",
       "    }\n",
       "\n",
       "    .dataframe thead th {\n",
       "        text-align: right;\n",
       "    }\n",
       "</style>\n",
       "<table border=\"1\" class=\"dataframe\">\n",
       "  <thead>\n",
       "    <tr style=\"text-align: right;\">\n",
       "      <th></th>\n",
       "      <th>Aptitude</th>\n",
       "      <th>Verbal</th>\n",
       "      <th>Labels_Predicted_Logistic</th>\n",
       "      <th>Aptitude_Norm</th>\n",
       "      <th>Verbal_Norm</th>\n",
       "    </tr>\n",
       "  </thead>\n",
       "  <tbody>\n",
       "    <tr>\n",
       "      <th>0</th>\n",
       "      <td>32.822833</td>\n",
       "      <td>43.407173</td>\n",
       "      <td>0</td>\n",
       "      <td>-1.587197</td>\n",
       "      <td>-1.044153</td>\n",
       "    </tr>\n",
       "    <tr>\n",
       "      <th>1</th>\n",
       "      <td>64.139320</td>\n",
       "      <td>78.131688</td>\n",
       "      <td>1</td>\n",
       "      <td>0.008874</td>\n",
       "      <td>0.721856</td>\n",
       "    </tr>\n",
       "    <tr>\n",
       "      <th>2</th>\n",
       "      <td>72.446494</td>\n",
       "      <td>96.327593</td>\n",
       "      <td>1</td>\n",
       "      <td>0.432256</td>\n",
       "      <td>1.647258</td>\n",
       "    </tr>\n",
       "    <tr>\n",
       "      <th>3</th>\n",
       "      <td>60.557886</td>\n",
       "      <td>73.194998</td>\n",
       "      <td>0</td>\n",
       "      <td>-0.173657</td>\n",
       "      <td>0.470787</td>\n",
       "    </tr>\n",
       "    <tr>\n",
       "      <th>4</th>\n",
       "      <td>58.940956</td>\n",
       "      <td>75.958448</td>\n",
       "      <td>0</td>\n",
       "      <td>-0.256065</td>\n",
       "      <td>0.611330</td>\n",
       "    </tr>\n",
       "  </tbody>\n",
       "</table>\n",
       "</div>"
      ],
      "text/plain": [
       "    Aptitude     Verbal  Labels_Predicted_Logistic  Aptitude_Norm  Verbal_Norm\n",
       "0  32.822833  43.407173                          0      -1.587197    -1.044153\n",
       "1  64.139320  78.131688                          1       0.008874     0.721856\n",
       "2  72.446494  96.327593                          1       0.432256     1.647258\n",
       "3  60.557886  73.194998                          0      -0.173657     0.470787\n",
       "4  58.940956  75.958448                          0      -0.256065     0.611330"
      ]
     },
     "execution_count": 23,
     "metadata": {},
     "output_type": "execute_result"
    }
   ],
   "source": [
    "test_df_norm_l = pd.concat([test_with_labels_l,test_df_norm],axis=1)\n",
    "test_df_norm_l.head()"
   ]
  },
  {
   "cell_type": "code",
   "execution_count": 28,
   "metadata": {},
   "outputs": [
    {
     "data": {
      "text/plain": [
       "Text(0.5, 1.0, 'Data Points for test data set predicted using Logistic Regression')"
      ]
     },
     "execution_count": 28,
     "metadata": {},
     "output_type": "execute_result"
    },
    {
     "data": {
      "image/png": "[encoded data removed]",
      "text/plain": [
       "<Figure size 432x288 with 1 Axes>"
      ]
     },
     "metadata": {
      "needs_background": "light"
     },
     "output_type": "display_data"
    }
   ],
   "source": [
    "plt.scatter(test_with_labels_l.Aptitude[test_with_labels_l['Labels_Predicted_Logistic']==0],test_with_labels_p.Verbal[test_with_labels_l['Labels_Predicted_Logistic']==0],c='red')\n",
    "plt.scatter(test_with_labels_l.Aptitude[test_with_labels_l['Labels_Predicted_Logistic']==1],test_with_labels_l.Verbal[test_with_labels_l['Labels_Predicted_Logistic']==1])\n",
    "plt.xlabel('Aptitude')\n",
    "plt.ylabel('Verbal')\n",
    "plt.title('Data Points for test data set predicted using Logistic Regression')"
   ]
  },
  {
   "cell_type": "code",
   "execution_count": 25,
   "metadata": {},
   "outputs": [],
   "source": [
    "aptitude_0_l = test_df_norm_l.Aptitude_Norm[test_df_norm_l['Labels_Predicted_Logistic']==0]\n",
    "verbal_0_l = test_df_norm_l.Verbal_Norm[test_df_norm_l['Labels_Predicted_Logistic']==0]\n",
    "aptitude_1_l = test_df_norm_l.Aptitude_Norm[test_df_norm_l['Labels_Predicted_Logistic']==1]\n",
    "verbal_1_l = test_df_norm_l.Verbal_Norm[test_df_norm_l['Labels_Predicted_Logistic']==1]"
   ]
  },
  {
   "cell_type": "code",
   "execution_count": 26,
   "metadata": {},
   "outputs": [
    {
     "data": {
      "text/plain": [
       "Text(0.5, 1.0, 'Separation of Data Points for test data set predicted using logistic regression')"
      ]
     },
     "execution_count": 26,
     "metadata": {},
     "output_type": "execute_result"
    },
    {
     "data": {
      "image/png": "[encoded data removed]",
      "text/plain": [
       "<Figure size 432x288 with 1 Axes>"
      ]
     },
     "metadata": {
      "needs_background": "light"
     },
     "output_type": "display_data"
    }
   ],
   "source": [
    "plt.scatter(aptitude_0_l,verbal_0_l,c='red')\n",
    "plt.scatter(aptitude_1_l,verbal_1_l)\n",
    "plt.xlabel('Aptitude')\n",
    "plt.ylabel('Verbal')\n",
    "plt.plot(test_df_norm_l.Aptitude_Norm,(theta_final[0][0]+theta_final[1][0]*test_df_norm_l.Aptitude_Norm)/(-theta_final[2][0]))\n",
    "plt.title('Separation of Data Points for test data set predicted using logistic regression')"
   ]
  },
  {
   "cell_type": "code",
   "execution_count": 27,
   "metadata": {},
   "outputs": [
    {
     "data": {
      "text/plain": [
       "Text(0.5, 1.0, 'Cost vs Iterations for Logistic Regression')"
      ]
     },
     "execution_count": 27,
     "metadata": {},
     "output_type": "execute_result"
    },
    {
     "data": {
      "image/png": "[encoded data removed]",
      "text/plain": [
       "<Figure size 432x288 with 1 Axes>"
      ]
     },
     "metadata": {
      "needs_background": "light"
     },
     "output_type": "display_data"
    }
   ],
   "source": [
    "iteration_l=np.arange(1,12001,1)\n",
    "plt.plot(iteration_l,J_final)\n",
    "plt.title('Cost vs Iterations for Logistic Regression')"
   ]
  },
  {
   "cell_type": "code",
   "execution_count": null,
   "metadata": {},
   "outputs": [],
   "source": []
  }
 ],
 "metadata": {
  "kernelspec": {
   "display_name": "Python 3",
   "language": "python",
   "name": "python3"
  },
  "language_info": {
   "codemirror_mode": {
    "name": "ipython",
    "version": 3
   },
   "file_extension": ".py",
   "mimetype": "text/x-python",
   "name": "python",
   "nbconvert_exporter": "python",
   "pygments_lexer": "ipython3",
   "version": "3.8.5"
  }
 },
 "nbformat": 4,
 "nbformat_minor": 4
}
